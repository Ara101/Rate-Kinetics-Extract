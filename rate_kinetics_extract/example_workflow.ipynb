{
 "cells": [
  {
   "cell_type": "code",
   "execution_count": null,
   "metadata": {},
   "outputs": [
    {
     "name": "stdout",
     "output_type": "stream",
     "text": [
      "c:\\Users\\Justin\\Data_extraction_kinetic_signaling_data\\rate_kinetics_extract\n",
      "c:\\Users\\Justin\\Data_extraction_kinetic_signaling_data\n"
     ]
    }
   ],
   "source": [
    "import unittest\n",
    "import numpy as np\n",
    "import pandas as pd\n",
    "import os\n",
    "import sys\n",
    "\n",
    "# Get the current working directory\n",
    "current_dir = os.getcwd()\n",
    "print(current_dir)\n",
    "\n",
    "# Get the root directory (assuming your script is two levels deep in the directory structure)\n",
    "root_dir = os.path.abspath(os.path.join(current_dir, '..'))\n",
    "print(root_dir)\n",
    "\n",
    "# Add the root directory to the Python path\n",
    "sys.path.append(root_dir)\n",
    "\n",
    "from rate_kinetics_extract.RateKineticsExtract import KineticAnalysis\n",
    "\n",
    "time = np.array([0, 1, 2, 3, 4, 5])\n",
    "response = np.array([0, 1, 2, 3, 4, 5])\n",
    "kinetics = KineticAnalysis(time, response)\n",
    "x = kinetics.baseline_steadystate_response(1, 2, 3, 4)\n",
    "# make it print a plot along with parameters"
   ]
  }
 ],
 "metadata": {
  "kernelspec": {
   "display_name": "Python 3",
   "language": "python",
   "name": "python3"
  },
  "language_info": {
   "codemirror_mode": {
    "name": "ipython",
    "version": 3
   },
   "file_extension": ".py",
   "mimetype": "text/x-python",
   "name": "python",
   "nbconvert_exporter": "python",
   "pygments_lexer": "ipython3",
   "version": "3.11.9"
  }
 },
 "nbformat": 4,
 "nbformat_minor": 2
}
