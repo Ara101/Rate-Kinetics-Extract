{
 "cells": [
  {
   "cell_type": "code",
   "execution_count": 6,
   "metadata": {},
   "outputs": [
    {
     "name": "stdout",
     "output_type": "stream",
     "text": [
      "c:\\Users\\dhlpablo_m2\\Git\\Data_extraction_kinetic_signaling_data\\rate_kinetics_extract\n",
      "c:\\Users\\dhlpablo_m2\\Git\\Data_extraction_kinetic_signaling_data\n"
     ]
    }
   ],
   "source": [
    "import unittest\n",
    "import numpy as np\n",
    "import pandas as pd\n",
    "import os\n",
    "import sys\n",
    "\n",
    "\n",
    "\n",
    "# Get the current working directory\n",
    "current_dir = os.getcwd()\n",
    "print(current_dir)\n",
    "\n",
    "from ratekineticsextract import KineticAnalysis\n",
    "\n",
    "# Get the root directory (assuming your script is two levels deep in the directory structure)\n",
    "root_dir = os.path.abspath(os.path.join(current_dir, '..'))\n",
    "print(root_dir)\n",
    "\n",
    "# Add the root directory to the Python path\n",
    "sys.path.append(root_dir)\n",
    "\n",
    "\n",
    "time = np.array([0, 1, 2, 3, 4, 5])\n",
    "response = np.array([0, 1, 2, 3, 4, 5])\n",
    "kinetics = KineticAnalysis(time, response)\n",
    "x = kinetics.baseline_steadystate_response(1, 2, 3, 4)\n",
    "# make it print a plot along with parameters"
   ]
  }
 ],
 "metadata": {
  "kernelspec": {
   "display_name": "Python 3",
   "language": "python",
   "name": "python3"
  },
  "language_info": {
   "codemirror_mode": {
    "name": "ipython",
    "version": 3
   },
   "file_extension": ".py",
   "mimetype": "text/x-python",
   "name": "python",
   "nbconvert_exporter": "python",
   "pygments_lexer": "ipython3",
   "version": "3.13.0"
  }
 },
 "nbformat": 4,
 "nbformat_minor": 2
}
